{
 "cells": [
  {
   "cell_type": "code",
   "execution_count": 4,
   "id": "cbae87fb-4078-4707-aeb5-f7332c11558f",
   "metadata": {},
   "outputs": [],
   "source": [
    "# Importing the Libraries\n",
    "import pandas as pd\n",
    "import numpy as np\n",
    "import csv"
   ]
  },
  {
   "cell_type": "code",
   "execution_count": 5,
   "id": "f5ba6792-3a29-454f-a3d5-ab94d364bf0e",
   "metadata": {},
   "outputs": [
    {
     "name": "stdout",
     "output_type": "stream",
     "text": [
      "Description of duplicate borrower table:\n",
      "          Loan Count\n",
      "count  694279.000000\n",
      "mean        1.104022\n",
      "std         0.306489\n",
      "min         1.000000\n",
      "25%         1.000000\n",
      "50%         1.000000\n",
      "75%         1.000000\n",
      "max        12.000000\n"
     ]
    }
   ],
   "source": [
    "PPPData = pd.read_csv('public_150k_plus_fingerprint.csv')\n",
    "\n",
    "# Index (read) the rows in the PPPData['BorrowerNameFingerprint'] and using the size aggrigate function, count the number of entries that a unique barrower has in this column.\n",
    "LoanCount = PPPData.pivot_table(index='BorrowerNameFingerprint',aggfunc='size')\n",
    "\n",
    "# Convert this into a dataframe\n",
    "LoanCountDF=LoanCount.to_frame('Loan Count')\n",
    "\n",
    "print('Description of duplicate borrower table:')\n",
    "print(LoanCountDF.describe())"
   ]
  },
  {
   "cell_type": "code",
   "execution_count": 6,
   "id": "0fcff57b-9f03-41c0-b6f4-52150092ec58",
   "metadata": {},
   "outputs": [
    {
     "name": "stdout",
     "output_type": "stream",
     "text": [
      "Loans labeled as second-round loans:\n",
      "(103949, 51)\n",
      "Loans labeled as second-round loans:\n",
      "(103947, 51)\n"
     ]
    }
   ],
   "source": [
    "# Using the processing method of the data loan, we can identify the second-round loans (PPP for first, PPS for second)\n",
    "\n",
    "# Filter the DataFrame to include only loans where ProcessingMethod is 'PPS' (Second Round Loans) by saving only rows with said \"== '__'\" trait\n",
    "PPSLoans = PPPData[PPPData['ProcessingMethod'] == 'PPS']\n",
    "\n",
    "PPSLoansUnique = PPSLoans.drop_duplicates(subset='BorrowerNameFingerprint')\n",
    "PPSLoansUnique\n",
    "# Prints the shape of the dataframe, in the total (Row, Col) format\n",
    "print('Loans labeled as second-round loans:')\n",
    "print(PPSLoans.shape)\n",
    "\n",
    "print('Loans labeled as second-round loans:')\n",
    "print(PPSLoansUnique.shape)\n"
   ]
  },
  {
   "cell_type": "code",
   "execution_count": 7,
   "id": "4987d9f1-40de-4f22-93f7-cccc259347a4",
   "metadata": {},
   "outputs": [
    {
     "data": {
      "application/vnd.microsoft.datawrangler.viewer.v0+json": {
       "columns": [
        {
         "name": "index",
         "rawType": "int64",
         "type": "integer"
        },
        {
         "name": "LoanNumber",
         "rawType": "int64",
         "type": "integer"
        },
        {
         "name": "DateApproved",
         "rawType": "object",
         "type": "string"
        },
        {
         "name": "SBAOfficeCode",
         "rawType": "int64",
         "type": "integer"
        },
        {
         "name": "ProcessingMethod",
         "rawType": "object",
         "type": "string"
        },
        {
         "name": "BorrowerName",
         "rawType": "object",
         "type": "string"
        },
        {
         "name": "BorrowerNameFingerprint",
         "rawType": "object",
         "type": "string"
        },
        {
         "name": "BorrowerAddress",
         "rawType": "object",
         "type": "string"
        },
        {
         "name": "BorrowerCity",
         "rawType": "object",
         "type": "string"
        },
        {
         "name": "BorrowerState",
         "rawType": "object",
         "type": "string"
        },
        {
         "name": "BorrowerZip",
         "rawType": "object",
         "type": "string"
        },
        {
         "name": "LoanStatusDate",
         "rawType": "object",
         "type": "string"
        },
        {
         "name": "LoanStatus",
         "rawType": "object",
         "type": "string"
        },
        {
         "name": "Term",
         "rawType": "int64",
         "type": "integer"
        },
        {
         "name": "SBAGuarantyPercentage",
         "rawType": "int64",
         "type": "integer"
        },
        {
         "name": "InitialApprovalAmount",
         "rawType": "float64",
         "type": "float"
        },
        {
         "name": "CurrentApprovalAmount",
         "rawType": "float64",
         "type": "float"
        },
        {
         "name": "UndisbursedAmount",
         "rawType": "float64",
         "type": "float"
        },
        {
         "name": "FranchiseName",
         "rawType": "object",
         "type": "unknown"
        },
        {
         "name": "ServicingLenderLocationID",
         "rawType": "int64",
         "type": "integer"
        },
        {
         "name": "ServicingLenderName",
         "rawType": "object",
         "type": "string"
        },
        {
         "name": "ServicingLenderAddress",
         "rawType": "object",
         "type": "string"
        },
        {
         "name": "ServicingLenderCity",
         "rawType": "object",
         "type": "string"
        },
        {
         "name": "ServicingLenderState",
         "rawType": "object",
         "type": "string"
        },
        {
         "name": "ServicingLenderZip",
         "rawType": "object",
         "type": "string"
        },
        {
         "name": "RuralUrbanIndicator",
         "rawType": "object",
         "type": "string"
        },
        {
         "name": "HubzoneIndicator",
         "rawType": "object",
         "type": "string"
        },
        {
         "name": "LMIIndicator",
         "rawType": "object",
         "type": "string"
        },
        {
         "name": "BusinessAgeDescription",
         "rawType": "object",
         "type": "string"
        },
        {
         "name": "ProjectCity",
         "rawType": "object",
         "type": "string"
        },
        {
         "name": "ProjectCountyName",
         "rawType": "object",
         "type": "string"
        },
        {
         "name": "ProjectState",
         "rawType": "object",
         "type": "string"
        },
        {
         "name": "ProjectZip",
         "rawType": "object",
         "type": "string"
        },
        {
         "name": "CD",
         "rawType": "object",
         "type": "string"
        },
        {
         "name": "JobsReported",
         "rawType": "float64",
         "type": "float"
        },
        {
         "name": "NAICSCode",
         "rawType": "float64",
         "type": "float"
        },
        {
         "name": "RaceEthnicity",
         "rawType": "object",
         "type": "string"
        },
        {
         "name": "UTILITIES_PROCEED",
         "rawType": "float64",
         "type": "float"
        },
        {
         "name": "PAYROLL_PROCEED",
         "rawType": "float64",
         "type": "float"
        },
        {
         "name": "MORTGAGE_INTEREST_PROCEED",
         "rawType": "float64",
         "type": "float"
        },
        {
         "name": "RENT_PROCEED",
         "rawType": "float64",
         "type": "float"
        },
        {
         "name": "REFINANCE_EIDL_PROCEED",
         "rawType": "float64",
         "type": "float"
        },
        {
         "name": "HEALTH_CARE_PROCEED",
         "rawType": "float64",
         "type": "float"
        },
        {
         "name": "DEBT_INTEREST_PROCEED",
         "rawType": "float64",
         "type": "float"
        },
        {
         "name": "BusinessType",
         "rawType": "object",
         "type": "string"
        },
        {
         "name": "OriginatingLenderLocationID",
         "rawType": "int64",
         "type": "integer"
        },
        {
         "name": "OriginatingLender",
         "rawType": "object",
         "type": "string"
        },
        {
         "name": "OriginatingLenderCity",
         "rawType": "object",
         "type": "string"
        },
        {
         "name": "OriginatingLenderState",
         "rawType": "object",
         "type": "string"
        },
        {
         "name": "Gender",
         "rawType": "object",
         "type": "string"
        },
        {
         "name": "Veteran",
         "rawType": "object",
         "type": "string"
        },
        {
         "name": "NonProfit",
         "rawType": "object",
         "type": "unknown"
        }
       ],
       "conversionMethod": "pd.DataFrame",
       "ref": "00e668d6-083e-4477-8af3-1b2b92b8509b",
       "rows": [
        [
         "619062",
         "7245898304",
         "01/28/2021",
         "464",
         "PPS",
         "ANDY REED",
         "andy reed mount pleasant SC",
         "624 Long Point Rd Unit A",
         "Mount Pleasant",
         "SC",
         "29464-8283",
         "01/28/2021",
         "Active Un-Disbursed",
         "24",
         "100",
         "361599.0",
         "361599.0",
         "361599.0",
         null,
         "203685",
         "Pinnacle Bank",
         "150 Third Ave S, Ste 900",
         "NASHVILLE",
         "TN",
         "37201-2034",
         "U",
         "N",
         "N",
         "Existing or more than 2 years old",
         "Mount Pleasant",
         "CHARLESTON",
         "SC",
         "29464-8283",
         "SC-01",
         "38.0",
         "722511.0",
         "Unanswered",
         "1.0",
         "361594.0",
         null,
         null,
         null,
         null,
         null,
         "Limited  Liability Company(LLC)",
         "203685",
         "Pinnacle Bank",
         "NASHVILLE",
         "TN",
         "Unanswered",
         "Unanswered",
         null
        ],
        [
         "619972",
         "6117878310",
         "01/26/2021",
         "464",
         "PPS",
         "ANDY REED",
         "andy reed mount pleasant SC",
         "1117 Park West Blvd Ste E",
         "Mount Pleasant",
         "SC",
         "29466-7120",
         "01/26/2021",
         "Active Un-Disbursed",
         "24",
         "100",
         "289723.0",
         "289723.0",
         "289723.0",
         null,
         "203685",
         "Pinnacle Bank",
         "150 Third Ave S, Ste 900",
         "NASHVILLE",
         "TN",
         "37201-2034",
         "U",
         "N",
         "N",
         "Existing or more than 2 years old",
         "Mount Pleasant",
         "CHARLESTON",
         "SC",
         "29466-7120",
         "SC-01",
         "31.0",
         "722511.0",
         "Unanswered",
         "1.0",
         "289718.0",
         null,
         null,
         null,
         null,
         null,
         "Limited  Liability Company(LLC)",
         "203685",
         "Pinnacle Bank",
         "NASHVILLE",
         "TN",
         "Unanswered",
         "Unanswered",
         null
        ],
        [
         "682349",
         "2053668308",
         "01/20/2021",
         "610",
         "PPS",
         "LNF (SOL) OPERATING CORP",
         "corp lnf operating dallas TX",
         "6030 Luther Ln Ste 180",
         "Dallas",
         "TX",
         "75225-6151",
         "01/20/2021",
         "Active Un-Disbursed",
         "24",
         "100",
         "212502.0",
         "212502.0",
         "212502.0",
         null,
         "69884",
         "Dallas Capital Bank, National Association",
         "14185 Dallas Pkwy, Ste 200",
         "DALLAS",
         "TX",
         "75254-1327",
         "U",
         "N",
         "N",
         "Existing or more than 2 years old",
         "Dallas",
         "DALLAS",
         "TX",
         "75225-6151",
         "TX-32",
         "18.0",
         "713940.0",
         "Unanswered",
         "1.0",
         "212500.0",
         null,
         null,
         null,
         null,
         null,
         "Corporation",
         "69884",
         "Dallas Capital Bank, National Association",
         "DALLAS",
         "TX",
         "Unanswered",
         "Unanswered",
         null
        ],
        [
         "699232",
         "2041138305",
         "01/20/2021",
         "610",
         "PPS",
         "LNF (PR) OPERATING CORP",
         "corp lnf operating dallas TX",
         "6030 Luther Ln Ste 180",
         "Dallas",
         "TX",
         "75225-6151",
         "01/20/2021",
         "Active Un-Disbursed",
         "24",
         "100",
         "151020.0",
         "151020.0",
         "151020.0",
         null,
         "69884",
         "Dallas Capital Bank, National Association",
         "14185 Dallas Pkwy, Ste 200",
         "DALLAS",
         "TX",
         "75254-1327",
         "U",
         "N",
         "N",
         "Existing or more than 2 years old",
         "Dallas",
         "DALLAS",
         "TX",
         "75225-6151",
         "TX-32",
         "14.0",
         "713940.0",
         "Unanswered",
         "1.0",
         "151017.0",
         null,
         null,
         null,
         null,
         null,
         "Corporation",
         "69884",
         "Dallas Capital Bank, National Association",
         "DALLAS",
         "TX",
         "Unanswered",
         "Unanswered",
         null
        ]
       ],
       "shape": {
        "columns": 51,
        "rows": 4
       }
      },
      "text/html": [
       "<div>\n",
       "<style scoped>\n",
       "    .dataframe tbody tr th:only-of-type {\n",
       "        vertical-align: middle;\n",
       "    }\n",
       "\n",
       "    .dataframe tbody tr th {\n",
       "        vertical-align: top;\n",
       "    }\n",
       "\n",
       "    .dataframe thead th {\n",
       "        text-align: right;\n",
       "    }\n",
       "</style>\n",
       "<table border=\"1\" class=\"dataframe\">\n",
       "  <thead>\n",
       "    <tr style=\"text-align: right;\">\n",
       "      <th></th>\n",
       "      <th>LoanNumber</th>\n",
       "      <th>DateApproved</th>\n",
       "      <th>SBAOfficeCode</th>\n",
       "      <th>ProcessingMethod</th>\n",
       "      <th>BorrowerName</th>\n",
       "      <th>BorrowerNameFingerprint</th>\n",
       "      <th>BorrowerAddress</th>\n",
       "      <th>BorrowerCity</th>\n",
       "      <th>BorrowerState</th>\n",
       "      <th>BorrowerZip</th>\n",
       "      <th>...</th>\n",
       "      <th>HEALTH_CARE_PROCEED</th>\n",
       "      <th>DEBT_INTEREST_PROCEED</th>\n",
       "      <th>BusinessType</th>\n",
       "      <th>OriginatingLenderLocationID</th>\n",
       "      <th>OriginatingLender</th>\n",
       "      <th>OriginatingLenderCity</th>\n",
       "      <th>OriginatingLenderState</th>\n",
       "      <th>Gender</th>\n",
       "      <th>Veteran</th>\n",
       "      <th>NonProfit</th>\n",
       "    </tr>\n",
       "  </thead>\n",
       "  <tbody>\n",
       "    <tr>\n",
       "      <th>619062</th>\n",
       "      <td>7245898304</td>\n",
       "      <td>01/28/2021</td>\n",
       "      <td>464</td>\n",
       "      <td>PPS</td>\n",
       "      <td>ANDY REED</td>\n",
       "      <td>andy reed mount pleasant SC</td>\n",
       "      <td>624 Long Point Rd Unit A</td>\n",
       "      <td>Mount Pleasant</td>\n",
       "      <td>SC</td>\n",
       "      <td>29464-8283</td>\n",
       "      <td>...</td>\n",
       "      <td>NaN</td>\n",
       "      <td>NaN</td>\n",
       "      <td>Limited  Liability Company(LLC)</td>\n",
       "      <td>203685</td>\n",
       "      <td>Pinnacle Bank</td>\n",
       "      <td>NASHVILLE</td>\n",
       "      <td>TN</td>\n",
       "      <td>Unanswered</td>\n",
       "      <td>Unanswered</td>\n",
       "      <td>NaN</td>\n",
       "    </tr>\n",
       "    <tr>\n",
       "      <th>619972</th>\n",
       "      <td>6117878310</td>\n",
       "      <td>01/26/2021</td>\n",
       "      <td>464</td>\n",
       "      <td>PPS</td>\n",
       "      <td>ANDY REED</td>\n",
       "      <td>andy reed mount pleasant SC</td>\n",
       "      <td>1117 Park West Blvd Ste E</td>\n",
       "      <td>Mount Pleasant</td>\n",
       "      <td>SC</td>\n",
       "      <td>29466-7120</td>\n",
       "      <td>...</td>\n",
       "      <td>NaN</td>\n",
       "      <td>NaN</td>\n",
       "      <td>Limited  Liability Company(LLC)</td>\n",
       "      <td>203685</td>\n",
       "      <td>Pinnacle Bank</td>\n",
       "      <td>NASHVILLE</td>\n",
       "      <td>TN</td>\n",
       "      <td>Unanswered</td>\n",
       "      <td>Unanswered</td>\n",
       "      <td>NaN</td>\n",
       "    </tr>\n",
       "    <tr>\n",
       "      <th>682349</th>\n",
       "      <td>2053668308</td>\n",
       "      <td>01/20/2021</td>\n",
       "      <td>610</td>\n",
       "      <td>PPS</td>\n",
       "      <td>LNF (SOL) OPERATING CORP</td>\n",
       "      <td>corp lnf operating dallas TX</td>\n",
       "      <td>6030 Luther Ln Ste 180</td>\n",
       "      <td>Dallas</td>\n",
       "      <td>TX</td>\n",
       "      <td>75225-6151</td>\n",
       "      <td>...</td>\n",
       "      <td>NaN</td>\n",
       "      <td>NaN</td>\n",
       "      <td>Corporation</td>\n",
       "      <td>69884</td>\n",
       "      <td>Dallas Capital Bank, National Association</td>\n",
       "      <td>DALLAS</td>\n",
       "      <td>TX</td>\n",
       "      <td>Unanswered</td>\n",
       "      <td>Unanswered</td>\n",
       "      <td>NaN</td>\n",
       "    </tr>\n",
       "    <tr>\n",
       "      <th>699232</th>\n",
       "      <td>2041138305</td>\n",
       "      <td>01/20/2021</td>\n",
       "      <td>610</td>\n",
       "      <td>PPS</td>\n",
       "      <td>LNF (PR) OPERATING CORP</td>\n",
       "      <td>corp lnf operating dallas TX</td>\n",
       "      <td>6030 Luther Ln Ste 180</td>\n",
       "      <td>Dallas</td>\n",
       "      <td>TX</td>\n",
       "      <td>75225-6151</td>\n",
       "      <td>...</td>\n",
       "      <td>NaN</td>\n",
       "      <td>NaN</td>\n",
       "      <td>Corporation</td>\n",
       "      <td>69884</td>\n",
       "      <td>Dallas Capital Bank, National Association</td>\n",
       "      <td>DALLAS</td>\n",
       "      <td>TX</td>\n",
       "      <td>Unanswered</td>\n",
       "      <td>Unanswered</td>\n",
       "      <td>NaN</td>\n",
       "    </tr>\n",
       "  </tbody>\n",
       "</table>\n",
       "<p>4 rows × 51 columns</p>\n",
       "</div>"
      ],
      "text/plain": [
       "        LoanNumber DateApproved  SBAOfficeCode ProcessingMethod  \\\n",
       "619062  7245898304   01/28/2021            464              PPS   \n",
       "619972  6117878310   01/26/2021            464              PPS   \n",
       "682349  2053668308   01/20/2021            610              PPS   \n",
       "699232  2041138305   01/20/2021            610              PPS   \n",
       "\n",
       "                    BorrowerName       BorrowerNameFingerprint  \\\n",
       "619062                 ANDY REED   andy reed mount pleasant SC   \n",
       "619972                 ANDY REED   andy reed mount pleasant SC   \n",
       "682349  LNF (SOL) OPERATING CORP  corp lnf operating dallas TX   \n",
       "699232   LNF (PR) OPERATING CORP  corp lnf operating dallas TX   \n",
       "\n",
       "                  BorrowerAddress    BorrowerCity BorrowerState BorrowerZip  \\\n",
       "619062   624 Long Point Rd Unit A  Mount Pleasant            SC  29464-8283   \n",
       "619972  1117 Park West Blvd Ste E  Mount Pleasant            SC  29466-7120   \n",
       "682349     6030 Luther Ln Ste 180          Dallas            TX  75225-6151   \n",
       "699232     6030 Luther Ln Ste 180          Dallas            TX  75225-6151   \n",
       "\n",
       "        ... HEALTH_CARE_PROCEED DEBT_INTEREST_PROCEED  \\\n",
       "619062  ...                 NaN                   NaN   \n",
       "619972  ...                 NaN                   NaN   \n",
       "682349  ...                 NaN                   NaN   \n",
       "699232  ...                 NaN                   NaN   \n",
       "\n",
       "                           BusinessType  OriginatingLenderLocationID  \\\n",
       "619062  Limited  Liability Company(LLC)                       203685   \n",
       "619972  Limited  Liability Company(LLC)                       203685   \n",
       "682349                      Corporation                        69884   \n",
       "699232                      Corporation                        69884   \n",
       "\n",
       "                                OriginatingLender  OriginatingLenderCity  \\\n",
       "619062                              Pinnacle Bank              NASHVILLE   \n",
       "619972                              Pinnacle Bank              NASHVILLE   \n",
       "682349  Dallas Capital Bank, National Association                 DALLAS   \n",
       "699232  Dallas Capital Bank, National Association                 DALLAS   \n",
       "\n",
       "        OriginatingLenderState      Gender     Veteran NonProfit  \n",
       "619062                      TN  Unanswered  Unanswered       NaN  \n",
       "619972                      TN  Unanswered  Unanswered       NaN  \n",
       "682349                      TX  Unanswered  Unanswered       NaN  \n",
       "699232                      TX  Unanswered  Unanswered       NaN  \n",
       "\n",
       "[4 rows x 51 columns]"
      ]
     },
     "execution_count": 7,
     "metadata": {},
     "output_type": "execute_result"
    }
   ],
   "source": [
    "''' \n",
    "We define a function that takes an input in the format (NameOfDF, ColumnInDF), and identifies \n",
    "all rows in the DF that have duplicate values in the specified column (ColumnInDF). \n",
    "The function returns a DF containing all the rows with duplicate values in that column.\n",
    "'''\n",
    "\n",
    "def find_all_rows_with_duplicates(df, column_name):\n",
    "    # Count the number of occurrences of each unique value in the specified column\n",
    "    value_counts = df[column_name].value_counts()\n",
    "    \n",
    "    # Filter the counts to get the values that appear more than once (duplicates)\n",
    "    duplicate_values = value_counts[value_counts > 1].index\n",
    "    \n",
    "    # Step 3: Return all rows from the DataFrame where the column value is a duplicate\n",
    "    return df[df[column_name].isin(duplicate_values)]  # Filtering the rows with duplicate values\n",
    "\n",
    "find_all_rows_with_duplicates(PPSLoans, 'BorrowerNameFingerprint')\n"
   ]
  },
  {
   "cell_type": "code",
   "execution_count": 8,
   "id": "92ab90bc-c3f3-41a2-b9ee-2c6a99b79251",
   "metadata": {},
   "outputs": [
    {
     "data": {
      "application/vnd.microsoft.datawrangler.viewer.v0+json": {
       "columns": [
        {
         "name": "index",
         "rawType": "int64",
         "type": "integer"
        },
        {
         "name": "Company Name",
         "rawType": "object",
         "type": "string"
        },
        {
         "name": "Company State",
         "rawType": "object",
         "type": "string"
        },
        {
         "name": "2nd Loan Amount",
         "rawType": "float64",
         "type": "float"
        },
        {
         "name": "Jobs Reported",
         "rawType": "float64",
         "type": "float"
        },
        {
         "name": "Dollars per Job",
         "rawType": "float64",
         "type": "float"
        }
       ],
       "conversionMethod": "pd.DataFrame",
       "ref": "105e9605-4345-4c81-9065-52e84951b62a",
       "rows": [
        [
         "679924",
         "#1 QUALITY ELECTRIC INC.",
         "TX",
         "225000.0",
         "18.0",
         "12500.0"
        ],
        [
         "253653",
         "#3 ZIMMIES INC.",
         "IL",
         "405667.0",
         "17.0",
         "23862.764705882353"
        ],
        [
         "256305",
         "#7 ZIMMIES INC.",
         "IL",
         "337456.0",
         "13.0",
         "25958.153846153848"
        ],
        [
         "401232",
         "#MYBLUESKY LLC",
         "MO",
         "305171.77",
         "31.0",
         "9844.250645161292"
        ],
        [
         "739171",
         "&YET LLC",
         "WA",
         "262248.0",
         "13.0",
         "20172.923076923078"
        ],
        [
         "565710",
         "'C' GROUP CONCEPTS LLC",
         "OK",
         "252042.0",
         "30.0",
         "8401.4"
        ],
        [
         "450658",
         "'FINDLAY INSTALLATION SERVICES L.L.C.",
         "NJ",
         "638113.28",
         "41.0",
         "15563.738536585366"
        ],
        [
         "630897",
         "*FOUNDATION FOR WORLDWIDE INTERNATIONAL STUDENT EXCHANGE",
         "TN",
         "433313.0",
         "21.0",
         "20633.95238095238"
        ],
        [
         "359271",
         "+VANTAGE CORPORATION",
         "MI",
         "633500.0",
         "39.0",
         "16243.589743589744"
        ],
        [
         "50956",
         "-IDS ELECTRICAL ENGINEERS INC",
         "CA",
         "618645.0",
         "31.0",
         "19956.290322580644"
        ],
        [
         "629872",
         ".A 2 .B SYNCHRONIZED LOGISTICS",
         "TN",
         "545732.0",
         "71.0",
         "7686.366197183099"
        ],
        [
         "447158",
         ".COM DISTRIBUTION CORP",
         "NJ",
         "1347500.0",
         "118.0",
         "11419.49152542373"
        ],
        [
         "613587",
         "02 GLOBAL CHAUFFEURED SERVICE INC",
         "RI",
         "597688.65",
         "74.0",
         "8076.873648648649"
        ],
        [
         "340204",
         "03 TECHNOLOGIES LLC",
         "MD",
         "450110.0",
         "75.0",
         "6001.466666666666"
        ],
        [
         "568228",
         "1 CALL CONTRACTORS LLC",
         "OK",
         "169587.0",
         "23.0",
         "7373.347826086957"
        ],
        [
         "651586",
         "1 EXPRESS TRANSPORT LLC",
         "TX",
         "668547.0",
         "71.0",
         "9416.154929577464"
        ],
        [
         "179953",
         "1 HOUR SIGNS INC",
         "FL",
         "310700.0",
         "31.0",
         "10022.58064516129"
        ],
        [
         "491153",
         "1 JOHN VENTURES LLC",
         "NY",
         "699625.5",
         "56.0",
         "12493.3125"
        ],
        [
         "80664",
         "1 METHOD LLC",
         "CA",
         "289017.9",
         "31.0",
         "9323.15806451613"
        ],
        [
         "382164",
         "1 MICRO LLC",
         "MN",
         "599668.27",
         "30.0",
         "19988.942333333332"
        ],
        [
         "496120",
         "1 MODEL MANAGEMENT LLC",
         "NY",
         "505877.0",
         "26.0",
         "19456.80769230769"
        ],
        [
         "154058",
         "1 SOURCE CONSULTING INC.",
         "DC",
         "2000000.0",
         "65.0",
         "30769.23076923077"
        ],
        [
         "390788",
         "1 SOURCE HOLDINGS LLC",
         "MN",
         "199662.0",
         "8.0",
         "24957.75"
        ],
        [
         "8157",
         "1 SOURCE LLC",
         "AL",
         "218940.0",
         "17.0",
         "12878.823529411764"
        ],
        [
         "226301",
         "1 WAY SOLUTIONS INC",
         "GA",
         "150000.0",
         "11.0",
         "13636.363636363636"
        ],
        [
         "521178",
         "1-2-3 DELIVERY SERVICES INC",
         "NY",
         "201495.0",
         "27.0",
         "7462.777777777777"
        ],
        [
         "46633",
         "1-888-4-ABATEMENT INC.",
         "CA",
         "738000.0",
         "63.0",
         "11714.285714285714"
        ],
        [
         "694203",
         "10 FORWARD LLC",
         "TX",
         "165931.5",
         "25.0",
         "6637.26"
        ],
        [
         "478169",
         "10 HOSPITALITY LLC",
         "NV",
         "209500.0",
         "18.0",
         "11638.888888888889"
        ],
        [
         "667597",
         "10 MINUTE FITNESS INC.",
         "TX",
         "317887.5",
         "24.0",
         "13245.3125"
        ],
        [
         "605014",
         "10 NORTH HOUCKS ROAD INC.",
         "PA",
         "189000.0",
         "40.0",
         "4725.0"
        ],
        [
         "410516",
         "10 SOUTH LLC",
         "MS",
         "270260.0",
         "28.0",
         "9652.142857142857"
        ],
        [
         "600565",
         "10-8 EMERGENCY VEHICLE SERVICE LLC",
         "PA",
         "231717.82",
         "22.0",
         "10532.628181818181"
        ],
        [
         "476599",
         "100 ACADEMY OF EXCELLENCE",
         "NV",
         "307800.0",
         "22.0",
         "13990.90909090909"
        ],
        [
         "443992",
         "100 CLUB CONCEPTS INC",
         "NH",
         "207875.5",
         "18.0",
         "11548.638888888889"
        ],
        [
         "675519",
         "100% ANTOJITOS MEXICANOS INC",
         "TX",
         "251300.0",
         "48.0",
         "5235.416666666667"
        ],
        [
         "194567",
         "1000 HANDS TOUR LLC",
         "FL",
         "195482.0",
         "15.0",
         "13032.133333333333"
        ],
        [
         "245573",
         "1001 W. LAKE OPCO LLC",
         "IL",
         "940124.0",
         "46.0",
         "20437.478260869564"
        ],
        [
         "233784",
         "100X MARKETING GROUP INC",
         "IA",
         "284170.0",
         "19.0",
         "14956.315789473685"
        ],
        [
         "76916",
         "101 BUILDERS INC.",
         "CA",
         "311000.0",
         "12.0",
         "25916.666666666668"
        ],
        [
         "280517",
         "101 DINE LLC",
         "IN",
         "346400.0",
         "26.0",
         "13323.076923076924"
        ],
        [
         "323162",
         "101 FEDERAL STREET LLC",
         "MA",
         "338847.5",
         "28.0",
         "12101.69642857143"
        ],
        [
         "432467",
         "101 KENWOOD LLC",
         "NC",
         "157209.0",
         "40.0",
         "3930.225"
        ],
        [
         "625443",
         "101 TECHNOLOGIES INC",
         "SD",
         "328000.0",
         "24.0",
         "13666.666666666666"
        ],
        [
         "521678",
         "101-12 RESTAURANT CORP",
         "NY",
         "199514.0",
         "45.0",
         "4433.644444444444"
        ],
        [
         "524947",
         "1017 COFFEEN STREET INC.",
         "NY",
         "183918.0",
         "30.0",
         "6130.6"
        ],
        [
         "278839",
         "101BK - FISHERS LLC",
         "IN",
         "464180.0",
         "57.0",
         "8143.508771929824"
        ],
        [
         "598869",
         "103 NORTH WAYNE AVENUE ASSOCIATES LLC",
         "PA",
         "252200.0",
         "44.0",
         "5731.818181818182"
        ],
        [
         "259521",
         "1039 W BRYN MAWR INC.",
         "IL",
         "278609.94",
         "40.0",
         "6965.2485"
        ],
        [
         "330503",
         "1050 NMAIN GROUP LLC",
         "MA",
         "193494.0",
         "34.0",
         "5691.0"
        ]
       ],
       "shape": {
        "columns": 5,
        "rows": 103947
       }
      },
      "text/html": [
       "<div>\n",
       "<style scoped>\n",
       "    .dataframe tbody tr th:only-of-type {\n",
       "        vertical-align: middle;\n",
       "    }\n",
       "\n",
       "    .dataframe tbody tr th {\n",
       "        vertical-align: top;\n",
       "    }\n",
       "\n",
       "    .dataframe thead th {\n",
       "        text-align: right;\n",
       "    }\n",
       "</style>\n",
       "<table border=\"1\" class=\"dataframe\">\n",
       "  <thead>\n",
       "    <tr style=\"text-align: right;\">\n",
       "      <th></th>\n",
       "      <th>Company Name</th>\n",
       "      <th>Company State</th>\n",
       "      <th>2nd Loan Amount</th>\n",
       "      <th>Jobs Reported</th>\n",
       "      <th>Dollars per Job</th>\n",
       "    </tr>\n",
       "  </thead>\n",
       "  <tbody>\n",
       "    <tr>\n",
       "      <th>679924</th>\n",
       "      <td>#1 QUALITY ELECTRIC INC.</td>\n",
       "      <td>TX</td>\n",
       "      <td>225000.00</td>\n",
       "      <td>18.0</td>\n",
       "      <td>12500.000000</td>\n",
       "    </tr>\n",
       "    <tr>\n",
       "      <th>253653</th>\n",
       "      <td>#3 ZIMMIES INC.</td>\n",
       "      <td>IL</td>\n",
       "      <td>405667.00</td>\n",
       "      <td>17.0</td>\n",
       "      <td>23862.764706</td>\n",
       "    </tr>\n",
       "    <tr>\n",
       "      <th>256305</th>\n",
       "      <td>#7 ZIMMIES INC.</td>\n",
       "      <td>IL</td>\n",
       "      <td>337456.00</td>\n",
       "      <td>13.0</td>\n",
       "      <td>25958.153846</td>\n",
       "    </tr>\n",
       "    <tr>\n",
       "      <th>401232</th>\n",
       "      <td>#MYBLUESKY LLC</td>\n",
       "      <td>MO</td>\n",
       "      <td>305171.77</td>\n",
       "      <td>31.0</td>\n",
       "      <td>9844.250645</td>\n",
       "    </tr>\n",
       "    <tr>\n",
       "      <th>739171</th>\n",
       "      <td>&amp;YET LLC</td>\n",
       "      <td>WA</td>\n",
       "      <td>262248.00</td>\n",
       "      <td>13.0</td>\n",
       "      <td>20172.923077</td>\n",
       "    </tr>\n",
       "    <tr>\n",
       "      <th>...</th>\n",
       "      <td>...</td>\n",
       "      <td>...</td>\n",
       "      <td>...</td>\n",
       "      <td>...</td>\n",
       "      <td>...</td>\n",
       "    </tr>\n",
       "    <tr>\n",
       "      <th>423032</th>\n",
       "      <td>ZZ HOME CARE LLC</td>\n",
       "      <td>NC</td>\n",
       "      <td>321217.50</td>\n",
       "      <td>59.0</td>\n",
       "      <td>5444.364407</td>\n",
       "    </tr>\n",
       "    <tr>\n",
       "      <th>599178</th>\n",
       "      <td>ZZH INC.</td>\n",
       "      <td>PA</td>\n",
       "      <td>249003.93</td>\n",
       "      <td>73.0</td>\n",
       "      <td>3411.012740</td>\n",
       "    </tr>\n",
       "    <tr>\n",
       "      <th>755743</th>\n",
       "      <td>ZZIP STOP INC.</td>\n",
       "      <td>WI</td>\n",
       "      <td>264778.50</td>\n",
       "      <td>99.0</td>\n",
       "      <td>2674.530303</td>\n",
       "    </tr>\n",
       "    <tr>\n",
       "      <th>103020</th>\n",
       "      <td>ZZM DENTAL MANAGEMENT INC</td>\n",
       "      <td>CA</td>\n",
       "      <td>203105.00</td>\n",
       "      <td>25.0</td>\n",
       "      <td>8124.200000</td>\n",
       "    </tr>\n",
       "    <tr>\n",
       "      <th>717945</th>\n",
       "      <td>ZZQ LLC</td>\n",
       "      <td>VA</td>\n",
       "      <td>270581.00</td>\n",
       "      <td>21.0</td>\n",
       "      <td>12884.809524</td>\n",
       "    </tr>\n",
       "  </tbody>\n",
       "</table>\n",
       "<p>103947 rows × 5 columns</p>\n",
       "</div>"
      ],
      "text/plain": [
       "                     Company Name Company State  2nd Loan Amount  \\\n",
       "679924   #1 QUALITY ELECTRIC INC.            TX        225000.00   \n",
       "253653            #3 ZIMMIES INC.            IL        405667.00   \n",
       "256305            #7 ZIMMIES INC.            IL        337456.00   \n",
       "401232             #MYBLUESKY LLC            MO        305171.77   \n",
       "739171                   &YET LLC            WA        262248.00   \n",
       "...                           ...           ...              ...   \n",
       "423032           ZZ HOME CARE LLC            NC        321217.50   \n",
       "599178                   ZZH INC.            PA        249003.93   \n",
       "755743             ZZIP STOP INC.            WI        264778.50   \n",
       "103020  ZZM DENTAL MANAGEMENT INC            CA        203105.00   \n",
       "717945                    ZZQ LLC            VA        270581.00   \n",
       "\n",
       "        Jobs Reported  Dollars per Job  \n",
       "679924           18.0     12500.000000  \n",
       "253653           17.0     23862.764706  \n",
       "256305           13.0     25958.153846  \n",
       "401232           31.0      9844.250645  \n",
       "739171           13.0     20172.923077  \n",
       "...               ...              ...  \n",
       "423032           59.0      5444.364407  \n",
       "599178           73.0      3411.012740  \n",
       "755743           99.0      2674.530303  \n",
       "103020           25.0      8124.200000  \n",
       "717945           21.0     12884.809524  \n",
       "\n",
       "[103947 rows x 5 columns]"
      ]
     },
     "execution_count": 8,
     "metadata": {},
     "output_type": "execute_result"
    }
   ],
   "source": [
    "# Write the columns from PPSLoans into the PPSLoansSubset DF\n",
    "PPSLoansSubset = PPSLoansUnique[['BorrowerName', 'BorrowerState', 'CurrentApprovalAmount', 'JobsReported']]\n",
    "\n",
    "# Rename the columns in PPSLoansSubset (in the order which they come,) as the designated name.\n",
    "PPSLoansSubset.columns = ['Company Name', 'Company State', '2nd Loan Amount', 'Jobs Reported']\n",
    "\n",
    "# Calculate the dollars per job\n",
    "DollarsPerJob = PPSLoansSubset['2nd Loan Amount']/PPSLoansSubset['Jobs Reported']\n",
    "\n",
    "# Insert the newly calculated Dollars Per Job value for each business as a new column in the format of (ColumNumber, 'ColumnTitle', DFImported)\n",
    "PPSLoansSubset.insert(4, 'Dollars per Job', DollarsPerJob)\n",
    "SortedPPSLoansSubset = PPSLoansSubset.sort_values(by='Company Name')\n",
    "\n",
    "# Making the csv\n",
    "SortedPPSLoansSubset.to_csv('second_loans.csv', index=False)\n",
    "SortedPPSLoansSubset"
   ]
  }
 ],
 "metadata": {
  "kernelspec": {
   "display_name": "base",
   "language": "python",
   "name": "python3"
  },
  "language_info": {
   "codemirror_mode": {
    "name": "ipython",
    "version": 3
   },
   "file_extension": ".py",
   "mimetype": "text/x-python",
   "name": "python",
   "nbconvert_exporter": "python",
   "pygments_lexer": "ipython3",
   "version": "3.12.7"
  }
 },
 "nbformat": 4,
 "nbformat_minor": 5
}
